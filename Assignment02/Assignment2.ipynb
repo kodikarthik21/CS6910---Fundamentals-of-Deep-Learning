{
  "nbformat": 4,
  "nbformat_minor": 0,
  "metadata": {
    "colab": {
      "name": "Assignment2.ipynb",
      "provenance": [],
      "collapsed_sections": []
    },
    "kernelspec": {
      "display_name": "Python 3",
      "name": "python3"
    },
    "language_info": {
      "name": "python"
    },
    "accelerator": "GPU"
  },
  "cells": [
    {
      "cell_type": "code",
      "metadata": {
        "id": "-WuiCFS-bK1e",
        "colab": {
          "base_uri": "https://localhost:8080/"
        },
        "outputId": "e2758ed4-996e-448f-e4f7-3ae5ea4c8f9a"
      },
      "source": [
        "from google.colab import drive\n",
        "drive.mount('/content/drive')"
      ],
      "execution_count": null,
      "outputs": [
        {
          "output_type": "stream",
          "text": [
            "Drive already mounted at /content/drive; to attempt to forcibly remount, call drive.mount(\"/content/drive\", force_remount=True).\n"
          ],
          "name": "stdout"
        }
      ]
    },
    {
      "cell_type": "code",
      "metadata": {
        "id": "yingReD0QyhK",
        "colab": {
          "base_uri": "https://localhost:8080/"
        },
        "outputId": "0eefe677-b907-4637-9d40-47183b403cf2"
      },
      "source": [
        "!pip install wandb"
      ],
      "execution_count": null,
      "outputs": [
        {
          "output_type": "stream",
          "text": [
            "Requirement already satisfied: wandb in /usr/local/lib/python3.7/dist-packages (0.10.24)\n",
            "Requirement already satisfied: GitPython>=1.0.0 in /usr/local/lib/python3.7/dist-packages (from wandb) (3.1.14)\n",
            "Requirement already satisfied: requests<3,>=2.0.0 in /usr/local/lib/python3.7/dist-packages (from wandb) (2.23.0)\n",
            "Requirement already satisfied: six>=1.13.0 in /usr/local/lib/python3.7/dist-packages (from wandb) (1.15.0)\n",
            "Requirement already satisfied: sentry-sdk>=0.4.0 in /usr/local/lib/python3.7/dist-packages (from wandb) (1.0.0)\n",
            "Requirement already satisfied: python-dateutil>=2.6.1 in /usr/local/lib/python3.7/dist-packages (from wandb) (2.8.1)\n",
            "Requirement already satisfied: configparser>=3.8.1 in /usr/local/lib/python3.7/dist-packages (from wandb) (5.0.2)\n",
            "Requirement already satisfied: subprocess32>=3.5.3 in /usr/local/lib/python3.7/dist-packages (from wandb) (3.5.4)\n",
            "Requirement already satisfied: protobuf>=3.12.0 in /usr/local/lib/python3.7/dist-packages (from wandb) (3.12.4)\n",
            "Requirement already satisfied: Click>=7.0 in /usr/local/lib/python3.7/dist-packages (from wandb) (7.1.2)\n",
            "Requirement already satisfied: shortuuid>=0.5.0 in /usr/local/lib/python3.7/dist-packages (from wandb) (1.0.1)\n",
            "Requirement already satisfied: PyYAML in /usr/local/lib/python3.7/dist-packages (from wandb) (3.13)\n",
            "Requirement already satisfied: docker-pycreds>=0.4.0 in /usr/local/lib/python3.7/dist-packages (from wandb) (0.4.0)\n",
            "Requirement already satisfied: pathtools in /usr/local/lib/python3.7/dist-packages (from wandb) (0.1.2)\n",
            "Requirement already satisfied: psutil>=5.0.0 in /usr/local/lib/python3.7/dist-packages (from wandb) (5.4.8)\n",
            "Requirement already satisfied: promise<3,>=2.0 in /usr/local/lib/python3.7/dist-packages (from wandb) (2.3)\n",
            "Requirement already satisfied: gitdb<5,>=4.0.1 in /usr/local/lib/python3.7/dist-packages (from GitPython>=1.0.0->wandb) (4.0.7)\n",
            "Requirement already satisfied: urllib3!=1.25.0,!=1.25.1,<1.26,>=1.21.1 in /usr/local/lib/python3.7/dist-packages (from requests<3,>=2.0.0->wandb) (1.24.3)\n",
            "Requirement already satisfied: certifi>=2017.4.17 in /usr/local/lib/python3.7/dist-packages (from requests<3,>=2.0.0->wandb) (2020.12.5)\n",
            "Requirement already satisfied: chardet<4,>=3.0.2 in /usr/local/lib/python3.7/dist-packages (from requests<3,>=2.0.0->wandb) (3.0.4)\n",
            "Requirement already satisfied: idna<3,>=2.5 in /usr/local/lib/python3.7/dist-packages (from requests<3,>=2.0.0->wandb) (2.10)\n",
            "Requirement already satisfied: setuptools in /usr/local/lib/python3.7/dist-packages (from protobuf>=3.12.0->wandb) (54.2.0)\n",
            "Requirement already satisfied: smmap<5,>=3.0.1 in /usr/local/lib/python3.7/dist-packages (from gitdb<5,>=4.0.1->GitPython>=1.0.0->wandb) (4.0.0)\n"
          ],
          "name": "stdout"
        }
      ]
    },
    {
      "cell_type": "code",
      "metadata": {
        "id": "4S9qlmY7Tbpm",
        "colab": {
          "base_uri": "https://localhost:8080/"
        },
        "outputId": "13402aa5-7b2e-42db-daef-c1011d7abb63"
      },
      "source": [
        "import wandb\n",
        "wandb.login()"
      ],
      "execution_count": null,
      "outputs": [
        {
          "output_type": "stream",
          "text": [
            "\u001b[34m\u001b[1mwandb\u001b[0m: Currently logged in as: \u001b[33mkodikarthik21\u001b[0m (use `wandb login --relogin` to force relogin)\n"
          ],
          "name": "stderr"
        },
        {
          "output_type": "execute_result",
          "data": {
            "text/plain": [
              "True"
            ]
          },
          "metadata": {
            "tags": []
          },
          "execution_count": 4
        }
      ]
    },
    {
      "cell_type": "code",
      "metadata": {
        "id": "yUxYr82I0HsZ",
        "colab": {
          "base_uri": "https://localhost:8080/"
        },
        "outputId": "43a45912-3534-43b0-a89b-92e22f1cc008"
      },
      "source": [
        "!unzip '/content/drive/MyDrive/nature_12K'"
      ],
      "execution_count": null,
      "outputs": [
        {
          "output_type": "stream",
          "text": [
            "Archive:  /content/drive/MyDrive/nature_12K.zip\n",
            "replace inaturalist_12K/.DS_Store? [y]es, [n]o, [A]ll, [N]one, [r]ename: "
          ],
          "name": "stdout"
        }
      ]
    },
    {
      "cell_type": "markdown",
      "metadata": {
        "id": "mANj6GJvw6ec"
      },
      "source": [
        "#Question 1 (5 Marks)\n",
        "\n",
        "\n",
        "\n",
        "Build a small CNN model consisting of  5 convolution layers. Each convolution layer would be followed by a ReLU activation and a max pooling layer. Here is sample code for building one such conv-relu-maxpool block in keras. \n",
        "\n",
        "After 5 such conv-relu-maxpool blocks of  layers you should have one dense layer followed by the output layer containing 10 neurons (1 for each of the 10 classes). The input layer should be compatible with the images in the iNaturalist dataset.\n",
        "\n",
        "\n",
        "\n",
        "\n"
      ]
    },
    {
      "cell_type": "code",
      "metadata": {
        "id": "52WKCnXgubgl",
        "colab": {
          "base_uri": "https://localhost:8080/",
          "height": 35
        },
        "outputId": "3d00bb46-d02c-4ff1-e78c-9ad5fe3401c8"
      },
      "source": [
        "import numpy as np\n",
        "import tensorflow as tf \n",
        "from tensorflow.keras.models import Sequential\n",
        "from tensorflow.keras.layers import Dense, Dropout, Activation, Flatten, Conv2D, MaxPooling2D\n",
        "tf.test.gpu_device_name()"
      ],
      "execution_count": null,
      "outputs": [
        {
          "output_type": "execute_result",
          "data": {
            "application/vnd.google.colaboratory.intrinsic+json": {
              "type": "string"
            },
            "text/plain": [
              "''"
            ]
          },
          "metadata": {
            "tags": []
          },
          "execution_count": 6
        }
      ]
    },
    {
      "cell_type": "code",
      "metadata": {
        "colab": {
          "base_uri": "https://localhost:8080/"
        },
        "id": "HdA3NoTsuWX8",
        "outputId": "e7d4e62e-3a70-4764-a67d-6058e2af8869"
      },
      "source": [
        "train_dataset = tf.keras.preprocessing.image_dataset_from_directory('/content/inaturalist_12K/train', \n",
        "                                                                    validation_split=0.1, seed = 123, subset = \"training\")\n",
        "\n",
        "validation_dataset = tf.keras.preprocessing.image_dataset_from_directory('/content/inaturalist_12K/train', \n",
        "                                                                    validation_split=0.1, seed = 123, subset = \"validation\")"
      ],
      "execution_count": null,
      "outputs": [
        {
          "output_type": "stream",
          "text": [
            "Found 9999 files belonging to 10 classes.\n",
            "Using 9000 files for training.\n",
            "Found 9999 files belonging to 10 classes.\n",
            "Using 999 files for validation.\n"
          ],
          "name": "stdout"
        }
      ]
    },
    {
      "cell_type": "code",
      "metadata": {
        "id": "CCtV66S9vhjN"
      },
      "source": [
        "import matplotlib.pyplot as plt\n",
        "\n",
        "plt.figure(figsize=(10, 10))\n",
        "class_names = train_dataset.class_names\n",
        "for images, labels in train_dataset.take(1):\n",
        "    for i in range(32):\n",
        "        ax = plt.subplot(6, 6, i + 1)\n",
        "        plt.imshow(images[i].numpy().astype(\"uint8\"))\n",
        "        plt.title(class_names[labels[i]])\n",
        "        plt.axis(\"off\")"
      ],
      "execution_count": null,
      "outputs": []
    },
    {
      "cell_type": "code",
      "metadata": {
        "id": "1hwbMhDEFrBf"
      },
      "source": [
        "def sweep_fn(): \n",
        "#---------HYPERPARAMETER DEFINITIONS--------------------------------------------\n",
        "  hyperparameter_defaults = dict(\n",
        "        max_epoch = 10,\n",
        "        num_filters = 32,\n",
        "        filter_org = 'same',\n",
        "        data_augmentation = 'N',\n",
        "        dropout = 0,\n",
        "        batch_normalization = 'N',\n",
        "        optimizer = 'adam'\n",
        "      )\n",
        "  learning_rate = 1e-3\n",
        "  decay_rate = learning_rate / epochs\n",
        "  momentum = 0.8\n",
        "  if config.optimizer == 'adam':\n",
        "    optimizer = tf.keras.optimizers.Adam(lr=learning_rate, decay=decay_rate)\n",
        "  elif config.optimizer == 'nadam':\n",
        "    optimizer = tf.keras.optimizers.Nadam(lr=learning_rate, decay=decay_rate)\n",
        "  elif config.optimizer == 'rmsprop':\n",
        "    optimizer = tf.keras.optimizers.rmsprop(lr=learning_rate, decay=decay_rate)\n",
        "  elif config.optimizer == 'nag':\n",
        "    optimizer = tf.keras.optimizers.SGD(lr=learning_rate, decay=decay_rate, nesterov=True)\n",
        "\n",
        "#-----------MODEL FRAMEWORK-----------------------------------------------------\n",
        "  wandb.init(project=\"Assignment02\", config=hyperparameter_defaults)\n",
        "  config = wandb.config\n",
        "  nf = config.num_filters\n",
        "\n",
        "  model = Sequential()\n",
        "  model.add(Conv2D(nf, (3, 3), input_shape=(256, 256, 3)))\n",
        "  model.add(Activation('relu'))\n",
        "  model.add(MaxPooling2D(pool_size=(2, 2)))\n",
        "\n",
        "  for i in range(1,5):\n",
        "    if config.filter_org == 'double':\n",
        "      nf = nf*2\n",
        "    elif config.filter_org == 'half':\n",
        "      nf = nf/2\n",
        "    model.add(Conv2D(nf, (3, 3)))\n",
        "    model.add(Activation('relu'))\n",
        "    model.add(MaxPooling2D(pool_size=(2, 2)))\n",
        "\n",
        "  model.add(Flatten())\n",
        "  model.add(Dense(64))\n",
        "  model.add(Dense(10))\n",
        "  model.add(Activation('softmax'))\n",
        " \n",
        "#-------------------------------------------------------------------------------\n",
        "  model.compile(optimizer=optimizer,\n",
        "                  loss=tf.keras.losses.SparseCategoricalCrossentropy(from_logits=False),\n",
        "                  metrics='accuracy')\n",
        "  model.fit(train_dataset, validation_data = validation_dataset, batch_size = 32, epochs = config.max_epoch)\n",
        "  callbacks=[WandbCallback()] \n",
        "  model.save('iNaturalist_CNN')\n",
        "  model.summary()   \n",
        "  wandb.run.finish()"
      ],
      "execution_count": null,
      "outputs": []
    },
    {
      "cell_type": "code",
      "metadata": {
        "id": "LUvyWQK-1srI",
        "colab": {
          "base_uri": "https://localhost:8080/"
        },
        "outputId": "72b72765-9fd5-4703-b6b9-95fef9b0830d"
      },
      "source": [
        "import wandb\n",
        "\n",
        "sweep_config = {\n",
        "  \"name\": \"My Sweep\",\n",
        "  \"method\": \"random\",\n",
        "  \"project\": \"Assignment02\",\n",
        "  \"metric\":{\n",
        "      \"name\":\"val_accuracy\",\n",
        "      \"goal\":\"maximize\"\n",
        "  },\n",
        "  \"parameters\": {\n",
        "        \"max_epoch\": {\n",
        "            \"values\": [10]\n",
        "        },\n",
        "        \"num_filters\": {\n",
        "            \"values\":[32,64,128]\n",
        "        }, \n",
        "        \"filter_org\": {\n",
        "            \"values\":['same','double','half']\n",
        "        },\n",
        "        \"data_augmentation\":{\n",
        "            \"values\":['Y',\"N\"]\n",
        "        },\n",
        "        \"dropout\":{\n",
        "            \"values\":[0, 0.2,0.3,0.4]\n",
        "        },\n",
        "        \"batch_normalization\": {\n",
        "            \"values\":['Y',\"N\"]\n",
        "        },  \n",
        "        \"optimizer\": {\n",
        "            \"values\":['adam', 'nadam','rmsprop','nag']\n",
        "        }\n",
        "    }\n",
        "}\n",
        "\n",
        "sweep_id = wandb.sweep(sweep_config)"
      ],
      "execution_count": null,
      "outputs": [
        {
          "output_type": "stream",
          "text": [
            "\u001b[34m\u001b[1mwandb\u001b[0m: \u001b[33mWARNING\u001b[0m Calling wandb.login() after wandb.init() has no effect.\n"
          ],
          "name": "stderr"
        },
        {
          "output_type": "stream",
          "text": [
            "Create sweep with ID: oayxwoty\n",
            "Sweep URL: https://wandb.ai/kodikarthik21/uncategorized/sweeps/oayxwoty\n"
          ],
          "name": "stdout"
        }
      ]
    },
    {
      "cell_type": "code",
      "metadata": {
        "id": "Ut64UvbB5z1i"
      },
      "source": [
        "wandb.agent(sweep_id, function=sweep_fn)"
      ],
      "execution_count": null,
      "outputs": []
    },
    {
      "cell_type": "code",
      "metadata": {
        "id": "l93jv_qAYyJP",
        "colab": {
          "base_uri": "https://localhost:8080/"
        },
        "outputId": "50e61238-6280-49c9-ef26-961cc4550978"
      },
      "source": [
        "sweep_fn()"
      ],
      "execution_count": null,
      "outputs": [
        {
          "output_type": "stream",
          "text": [
            "\u001b[34m\u001b[1mwandb\u001b[0m: \u001b[33mWARNING\u001b[0m Ignored wandb.init() arg project when running a sweep\n"
          ],
          "name": "stderr"
        }
      ]
    },
    {
      "cell_type": "code",
      "metadata": {
        "id": "08p3hm-VdVDe"
      },
      "source": [
        ""
      ],
      "execution_count": null,
      "outputs": []
    }
  ]
}