{
  "nbformat": 4,
  "nbformat_minor": 0,
  "metadata": {
    "colab": {
      "name": "Assignment 4-Gibbs.ipynb",
      "provenance": [],
      "collapsed_sections": [],
      "include_colab_link": true
    },
    "kernelspec": {
      "name": "python3",
      "display_name": "Python 3"
    },
    "language_info": {
      "name": "python"
    }
  },
  "cells": [
    {
      "cell_type": "markdown",
      "metadata": {
        "id": "view-in-github",
        "colab_type": "text"
      },
      "source": [
        "<a href=\"https://colab.research.google.com/github/kodikarthik21/CS6910---Fundamentals-of-Deep-Learning/blob/main/Assignment04/Assignment_4_Gibbs.ipynb\" target=\"_parent\"><img src=\"https://colab.research.google.com/assets/colab-badge.svg\" alt=\"Open In Colab\"/></a>"
      ]
    },
    {
      "cell_type": "markdown",
      "metadata": {
        "id": "5SpFP99GFmfD"
      },
      "source": [
        "# IMPORTING DATASETS AND INSTALLING REQUIRED DEPENDENCIES"
      ]
    },
    {
      "cell_type": "code",
      "metadata": {
        "colab": {
          "base_uri": "https://localhost:8080/"
        },
        "id": "DbMYFP9SLI88",
        "outputId": "c91ef043-cc5c-46d5-8bed-ebd24d1931ee"
      },
      "source": [
        "from google.colab import drive\n",
        "drive.mount('/content/drive')"
      ],
      "execution_count": null,
      "outputs": [
        {
          "output_type": "stream",
          "text": [
            "Drive already mounted at /content/drive; to attempt to forcibly remount, call drive.mount(\"/content/drive\", force_remount=True).\n"
          ],
          "name": "stdout"
        }
      ]
    },
    {
      "cell_type": "code",
      "metadata": {
        "colab": {
          "base_uri": "https://localhost:8080/"
        },
        "id": "s5qzVvESOdzt",
        "outputId": "d2088b55-7cd9-45cd-9bc1-46f76f577e33"
      },
      "source": [
        "!pip install wandb"
      ],
      "execution_count": null,
      "outputs": [
        {
          "output_type": "stream",
          "text": [
            "Requirement already satisfied: wandb in /usr/local/lib/python3.7/dist-packages (0.10.30)\n",
            "Requirement already satisfied: requests<3,>=2.0.0 in /usr/local/lib/python3.7/dist-packages (from wandb) (2.23.0)\n",
            "Requirement already satisfied: promise<3,>=2.0 in /usr/local/lib/python3.7/dist-packages (from wandb) (2.3)\n",
            "Requirement already satisfied: pathtools in /usr/local/lib/python3.7/dist-packages (from wandb) (0.1.2)\n",
            "Requirement already satisfied: psutil>=5.0.0 in /usr/local/lib/python3.7/dist-packages (from wandb) (5.4.8)\n",
            "Requirement already satisfied: docker-pycreds>=0.4.0 in /usr/local/lib/python3.7/dist-packages (from wandb) (0.4.0)\n",
            "Requirement already satisfied: six>=1.13.0 in /usr/local/lib/python3.7/dist-packages (from wandb) (1.15.0)\n",
            "Requirement already satisfied: Click>=7.0 in /usr/local/lib/python3.7/dist-packages (from wandb) (8.0.0)\n",
            "Requirement already satisfied: subprocess32>=3.5.3 in /usr/local/lib/python3.7/dist-packages (from wandb) (3.5.4)\n",
            "Requirement already satisfied: python-dateutil>=2.6.1 in /usr/local/lib/python3.7/dist-packages (from wandb) (2.8.1)\n",
            "Requirement already satisfied: shortuuid>=0.5.0 in /usr/local/lib/python3.7/dist-packages (from wandb) (1.0.1)\n",
            "Requirement already satisfied: sentry-sdk>=0.4.0 in /usr/local/lib/python3.7/dist-packages (from wandb) (1.1.0)\n",
            "Requirement already satisfied: protobuf>=3.12.0 in /usr/local/lib/python3.7/dist-packages (from wandb) (3.12.4)\n",
            "Requirement already satisfied: configparser>=3.8.1 in /usr/local/lib/python3.7/dist-packages (from wandb) (5.0.2)\n",
            "Requirement already satisfied: GitPython>=1.0.0 in /usr/local/lib/python3.7/dist-packages (from wandb) (3.1.17)\n",
            "Requirement already satisfied: PyYAML in /usr/local/lib/python3.7/dist-packages (from wandb) (3.13)\n",
            "Requirement already satisfied: urllib3!=1.25.0,!=1.25.1,<1.26,>=1.21.1 in /usr/local/lib/python3.7/dist-packages (from requests<3,>=2.0.0->wandb) (1.24.3)\n",
            "Requirement already satisfied: chardet<4,>=3.0.2 in /usr/local/lib/python3.7/dist-packages (from requests<3,>=2.0.0->wandb) (3.0.4)\n",
            "Requirement already satisfied: certifi>=2017.4.17 in /usr/local/lib/python3.7/dist-packages (from requests<3,>=2.0.0->wandb) (2020.12.5)\n",
            "Requirement already satisfied: idna<3,>=2.5 in /usr/local/lib/python3.7/dist-packages (from requests<3,>=2.0.0->wandb) (2.10)\n",
            "Requirement already satisfied: setuptools in /usr/local/lib/python3.7/dist-packages (from protobuf>=3.12.0->wandb) (56.1.0)\n",
            "Requirement already satisfied: typing-extensions>=3.7.4.0; python_version < \"3.8\" in /usr/local/lib/python3.7/dist-packages (from GitPython>=1.0.0->wandb) (3.7.4.3)\n",
            "Requirement already satisfied: gitdb<5,>=4.0.1 in /usr/local/lib/python3.7/dist-packages (from GitPython>=1.0.0->wandb) (4.0.7)\n",
            "Requirement already satisfied: smmap<5,>=3.0.1 in /usr/local/lib/python3.7/dist-packages (from gitdb<5,>=4.0.1->GitPython>=1.0.0->wandb) (4.0.0)\n"
          ],
          "name": "stdout"
        }
      ]
    },
    {
      "cell_type": "code",
      "metadata": {
        "colab": {
          "base_uri": "https://localhost:8080/"
        },
        "id": "1Am-OwBXOf5s",
        "outputId": "ccb43e87-7a84-464d-eef9-7e765c9a2616"
      },
      "source": [
        "import wandb\n",
        "wandb.login()"
      ],
      "execution_count": null,
      "outputs": [
        {
          "output_type": "stream",
          "text": [
            "\u001b[34m\u001b[1mwandb\u001b[0m: Currently logged in as: \u001b[33mkodikarthik21\u001b[0m (use `wandb login --relogin` to force relogin)\n"
          ],
          "name": "stderr"
        },
        {
          "output_type": "execute_result",
          "data": {
            "text/plain": [
              "True"
            ]
          },
          "metadata": {
            "tags": []
          },
          "execution_count": 3
        }
      ]
    },
    {
      "cell_type": "code",
      "metadata": {
        "id": "V8yIrcNBLgBx"
      },
      "source": [
        "%matplotlib inline\n",
        "import matplotlib.pyplot as plt\n",
        "import numpy as np\n",
        "import pandas as pd\n",
        "from sklearn.model_selection import train_test_split\n",
        "from numpy import exp\n",
        "from math import log\n",
        "numpy_rng = np.random.RandomState(1234)"
      ],
      "execution_count": null,
      "outputs": []
    },
    {
      "cell_type": "code",
      "metadata": {
        "id": "8aG-WhEfLrhM"
      },
      "source": [
        "train_df = pd.read_csv('/content/drive/MyDrive/Fashion_MNIST/fashion-mnist_train.csv')\n",
        "test_df = pd.read_csv('/content/drive/MyDrive/Fashion_MNIST/fashion-mnist_test.csv')"
      ],
      "execution_count": null,
      "outputs": []
    },
    {
      "cell_type": "markdown",
      "metadata": {
        "id": "F_GvNwcvFxAc"
      },
      "source": [
        "# DATASET PREPROCESSING"
      ]
    },
    {
      "cell_type": "code",
      "metadata": {
        "id": "55vwJnmnL4kE"
      },
      "source": [
        "train_data_df = train_df.drop('label', axis=1) #dropping the labels column to separate the data from the labels\n",
        "train_data_np = train_data_df.to_numpy() #data matrix\n",
        "train_bin = np.where(train_data_np > 127, 1, 0) #converting the data matrix to binary\n",
        "train_data = train_bin.reshape(train_bin.shape[0], 784) #reshaping\n",
        "train_labels = train_df['label'].to_frame().to_numpy() #labels\n",
        "train_data,val_data,train_labels,val_labels = train_test_split(train_data, train_labels, test_size=0.1, random_state=42)"
      ],
      "execution_count": null,
      "outputs": []
    },
    {
      "cell_type": "code",
      "metadata": {
        "id": "qMg_hs2_RV8j"
      },
      "source": [
        "test_data_df = test_df.drop('label', axis=1)\n",
        "test_data_np = test_data_df.to_numpy()\n",
        "test_bin = np.where(test_data_np > 127, 1, 0)\n",
        "test_data = test_bin.reshape(test_bin.shape[0], 784)\n",
        "test_labels = test_df['label'].to_frame().to_numpy()"
      ],
      "execution_count": null,
      "outputs": []
    },
    {
      "cell_type": "markdown",
      "metadata": {
        "id": "sZIeAKvUF3Yt"
      },
      "source": [
        "# SIMPLE LOGISTIC REGRESSION MODEL"
      ]
    },
    {
      "cell_type": "code",
      "metadata": {
        "id": "kONCq2R7BVCu"
      },
      "source": [
        "from sklearn.linear_model import LogisticRegression\n",
        "from sklearn.metrics import accuracy_score,log_loss\n",
        "def train_test(x_train, y_train, x_test,y_test):\n",
        "  logisticRegr = LogisticRegression(max_iter = 1000,multi_class='multinomial') #multi-class logistic regression model for 1000 iterations\n",
        "  logisticRegr.fit(x_train, y_train)\n",
        "  y_pred = logisticRegr.predict(x_test)\n",
        "  pred = logisticRegr.predict_proba(x_test)\n",
        "  loss = log_loss(y_test,pred) #cross-entropy loss\n",
        "  accuracy = accuracy_score(y_test, y_pred) #accuracy\n",
        "  return loss, accuracy"
      ],
      "execution_count": null,
      "outputs": []
    },
    {
      "cell_type": "markdown",
      "metadata": {
        "id": "Hnbc-cNsF7nX"
      },
      "source": [
        "# HELPER FUNCTIONS FOR RBM AND RBM MODEL"
      ]
    },
    {
      "cell_type": "code",
      "metadata": {
        "id": "TjjCQCSTU0Bg"
      },
      "source": [
        "def sigmoid(x):\n",
        "    return 1. / (1 + np.exp(-x))"
      ],
      "execution_count": null,
      "outputs": []
    },
    {
      "cell_type": "code",
      "metadata": {
        "id": "zUkzDDVYCmnU"
      },
      "source": [
        "class RBM(object):\n",
        "     def __init__(self, input=None, n_visible=2, n_hidden=3, W=None, hbias=None, vbias=None):\n",
        "        \n",
        "        if W is None:\n",
        "            initial_W = np.random.randn(n_visible, n_hidden) * 0.01\n",
        "            W = initial_W\n",
        "\n",
        "        if hbias is None:\n",
        "            hbias = np.random.randn(n_hidden) * 0.01  # initialize h bias 0\n",
        "\n",
        "        if vbias is None:\n",
        "            vbias = np.random.randn(n_visible) * 0.01 # initialize v bias 0\n",
        "\n",
        "        self.n_visible = n_visible \n",
        "        self.n_hidden = n_hidden   \n",
        "        self.input = input\n",
        "        self.W = W\n",
        "        self.hbias = hbias\n",
        "        self.vbias = vbias\n",
        "\n",
        "def gibbs_sampling(rbm, lr=0.1, k=200, r=10):\n",
        "\n",
        "  h_sig_initial, samp_h_initial = prob_hv(rbm,np.random.randn(rbm.input.shape[0], rbm.input.shape[1]))\n",
        "\n",
        "  chain_start = samp_h_initial\n",
        "\n",
        "  for step in range(k):\n",
        "      print(\"Sampling k={}\".format(step))\n",
        "      if step == 0:\n",
        "          sig_v, samp_v = prob_vh(rbm,samp_h_initial)\n",
        "      else:\n",
        "          sig_v, samp_v = prob_vh(rbm,samp_h)\n",
        "      sig_h, samp_h = prob_hv(rbm,samp_v)\n",
        "\n",
        "  dW_2 = numpy.zeros((rbm.n_visible,rbm.n_hidden))\n",
        "  dvbias_2 = numpy.zeros(rbm.n_visible)\n",
        "  dhbias_2 = numpy.zeros(rbm.n_hidden)\n",
        "\n",
        "  for step in range(r):\n",
        "    print(\"Sampling r={}\".format(step))\n",
        "    nv_means, nv_samples,\\\n",
        "    nh_means, nh_samples = gibbs_hvh(rbm,nh_samples)\n",
        "    dW_2 += numpy.dot(nv_samples.T, nh_means)\n",
        "    dvbias_2 += numpy.sum(nv_samples, axis=0)\n",
        "    dhbias_2 += numpy.sum(nh_means, axis=0)\n",
        "\n",
        "  rbm.W += lr * (numpy.dot(rbm.input.T, ph_mean)\n",
        "                  - dW_2)\n",
        "  rbm.vbias += lr * numpy.mean(rbm.input - dvbias_2, axis=0)\n",
        "  rbm.hbias += lr * numpy.mean(ph_sample - dhbias_2, axis=0)\n",
        "\n",
        "#-----------------SAMPLING(H/V)-------------------------\n",
        "def prob_hv(rbm, v):\n",
        "    sig_h = sigmoid(np.dot(v, rbm.W) + rbm.c)\n",
        "    samp_h = numpy_rng.binomial(size=sig_h.shape, n=1, p=sig_h)\n",
        "    return [sig_h, samp_h]\n",
        "\n",
        "#-----------------SAMPLING(V/H)-------------------------\n",
        "def prob_vh(rbm, h):\n",
        "    sig_v =  sigmoid(np.dot(h, rbm.W.T) + rbm.b)\n",
        "    samp_v = numpy_rng.binomial(size=sig_v.shape, n=1, p=sig_v) \n",
        "    return [sig_v, samp_v]\n",
        "\n",
        "#--------------- COMPUTE HIDDEN REPRESENTATION OF VALIDATION AND TEST DATA------\n",
        "def get_hidden_reps(rbm, v,t):\n",
        "    h_v = sigmoid(np.dot(v, rbm.W) + rbm.c)\n",
        "    h_t = sigmoid(np.dot(t, rbm.W) + rbm.c)\n",
        "    return h_v,h_t      \n",
        "\n",
        "#--TRAIN THE RBM AND RETURN HIDDEN REPRESENTATIONS OF VALIDATION AND TEST DATA--\n",
        "def train_rbm(rbm, v,t,learning_rate=0.05, k = 200, r=10):\n",
        "    gibbs_sampling(rbm,lr=learning_rate,k=k,r=r)\n",
        "    return get_hidden_reps(rbm,v,t)"
      ],
      "execution_count": null,
      "outputs": []
    },
    {
      "cell_type": "markdown",
      "metadata": {
        "id": "tE2kaD7NGC7Z"
      },
      "source": [
        "# SWEEP"
      ]
    },
    {
      "cell_type": "code",
      "metadata": {
        "id": "LjW04rkeNz1p"
      },
      "source": [
        "def swp():\n",
        "#-------------DEFAULT HYPERPARAMETERS-------------------------------------------\n",
        "  hyperparameter_defaults = dict(\n",
        "    n_hidden=64,\n",
        "    k = 200,\n",
        "    r = 10\n",
        "  )\n",
        "#---------------SETTING UP THE SWEEP--------------------------------------------\n",
        "  wandb.init(project=\"Assignment-4\", config=hyperparameter_defaults)\n",
        "  config = wandb.config\n",
        "  wandb.run.name = \"{}_h_layers_{}_k_{}_r- Gibbs\".format(config.n_hidden, config.k,config.r)\n",
        "  n_visible=784\n",
        "  rbm = RBM(input=train_data, n_visible=n_visible, n_hidden=config.n_hidden)\n",
        "\n",
        "#----------------RUNNING THE MODEL----------------------------------------------\n",
        "  for epoch in range(5):\n",
        "\n",
        "    hidden_rep,hidden_rep_test= train_rbm(rbm,val_data,test_data,k = config.k,r=config.r)\n",
        "    print('Training epoch: %d' %epoch)\n",
        "    loss, accuracy = train_test(hidden_rep, val_labels, hidden_rep_test,test_labels)\n",
        "    print('Loss:{} Accuracy:{}'.format(loss,accuracy))\n",
        "    metrics = {'epoch':epoch, 'accuracy': accuracy, 'loss': loss}\n",
        "    wandb.log(metrics)\n",
        "  wandb.run.finish()"
      ],
      "execution_count": null,
      "outputs": []
    },
    {
      "cell_type": "code",
      "metadata": {
        "colab": {
          "base_uri": "https://localhost:8080/"
        },
        "id": "szJG-RiwOZaK",
        "outputId": "1e5cc90f-8e32-43d0-d170-916a81bd3b49"
      },
      "source": [
        "sweep_config = {\n",
        "  \"name\": \"Sweep - Gibbs\",\n",
        "  \"method\": \"grid\",\n",
        "  \"project\": \"Assignment-4\",\n",
        "  \"metric\":{\n",
        "      \"name\":\"val_accuracy\",\n",
        "      \"goal\":\"maximize\"\n",
        "  },\n",
        "  \"parameters\": {\n",
        "        \"n_hidden\": {\n",
        "            \"values\":[64,128,256]\n",
        "        },\n",
        "        \"k\": {\n",
        "            \"values\":[200,300]\n",
        "        },\n",
        "        \"r\": {\n",
        "            \"values\":[10,20,30]\n",
        "        },\n",
        "    }\n",
        "}\n",
        "\n",
        "sweep_id = wandb.sweep(sweep_config)"
      ],
      "execution_count": null,
      "outputs": [
        {
          "output_type": "stream",
          "text": [
            "Create sweep with ID: nna1wkpl\n",
            "Sweep URL: https://wandb.ai/kodikarthik21/uncategorized/sweeps/nna1wkpl\n"
          ],
          "name": "stdout"
        }
      ]
    },
    {
      "cell_type": "code",
      "metadata": {
        "id": "1yMrpIcOO-ro"
      },
      "source": [
        "#wandb.agent('4ehftw3l', swp)"
      ],
      "execution_count": null,
      "outputs": []
    }
  ]
}