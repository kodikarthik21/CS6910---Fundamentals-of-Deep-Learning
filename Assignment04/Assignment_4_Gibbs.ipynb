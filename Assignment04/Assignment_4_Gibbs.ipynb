{
  "nbformat": 4,
  "nbformat_minor": 0,
  "metadata": {
    "colab": {
      "name": "Assignment 4-Gibbs.ipynb",
      "provenance": [],
      "collapsed_sections": [],
      "include_colab_link": true
    },
    "kernelspec": {
      "name": "python3",
      "display_name": "Python 3"
    },
    "language_info": {
      "name": "python"
    }
  },
  "cells": [
    {
      "cell_type": "markdown",
      "metadata": {
        "id": "view-in-github",
        "colab_type": "text"
      },
      "source": [
        "<a href=\"https://colab.research.google.com/github/kodikarthik21/CS6910---Fundamentals-of-Deep-Learning/blob/main/Assignment04/Assignment_4_Gibbs.ipynb\" target=\"_parent\"><img src=\"https://colab.research.google.com/assets/colab-badge.svg\" alt=\"Open In Colab\"/></a>"
      ]
    },
    {
      "cell_type": "markdown",
      "metadata": {
        "id": "5SpFP99GFmfD"
      },
      "source": [
        "# IMPORTING DATASETS AND INSTALLING REQUIRED DEPENDENCIES"
      ]
    },
    {
      "cell_type": "code",
      "metadata": {
        "colab": {
          "base_uri": "https://localhost:8080/"
        },
        "id": "DbMYFP9SLI88",
        "outputId": "a2707b62-287f-4d35-dc0d-9c37c143bb1c"
      },
      "source": [
        "from google.colab import drive\n",
        "drive.mount('/content/drive')"
      ],
      "execution_count": 1,
      "outputs": [
        {
          "output_type": "stream",
          "text": [
            "Mounted at /content/drive\n"
          ],
          "name": "stdout"
        }
      ]
    },
    {
      "cell_type": "code",
      "metadata": {
        "colab": {
          "base_uri": "https://localhost:8080/"
        },
        "id": "s5qzVvESOdzt",
        "outputId": "20172abb-6f5f-4ddb-f0a2-2910c906c175"
      },
      "source": [
        "!pip install wandb"
      ],
      "execution_count": 2,
      "outputs": [
        {
          "output_type": "stream",
          "text": [
            "Collecting wandb\n",
            "\u001b[?25l  Downloading https://files.pythonhosted.org/packages/98/5f/45439b4767334b868e1c8c35b1b0ba3747d8c21be77b79f09eed7aa3c72b/wandb-0.10.30-py2.py3-none-any.whl (1.8MB)\n",
            "\u001b[K     |████████████████████████████████| 1.8MB 6.5MB/s \n",
            "\u001b[?25hCollecting sentry-sdk>=0.4.0\n",
            "\u001b[?25l  Downloading https://files.pythonhosted.org/packages/1c/4a/a54b254f67d8f4052338d54ebe90126f200693440a93ef76d254d581e3ec/sentry_sdk-1.1.0-py2.py3-none-any.whl (131kB)\n",
            "\u001b[K     |████████████████████████████████| 133kB 23.8MB/s \n",
            "\u001b[?25hCollecting shortuuid>=0.5.0\n",
            "  Downloading https://files.pythonhosted.org/packages/25/a6/2ecc1daa6a304e7f1b216f0896b26156b78e7c38e1211e9b798b4716c53d/shortuuid-1.0.1-py3-none-any.whl\n",
            "Requirement already satisfied: python-dateutil>=2.6.1 in /usr/local/lib/python3.7/dist-packages (from wandb) (2.8.1)\n",
            "Requirement already satisfied: promise<3,>=2.0 in /usr/local/lib/python3.7/dist-packages (from wandb) (2.3)\n",
            "Collecting subprocess32>=3.5.3\n",
            "\u001b[?25l  Downloading https://files.pythonhosted.org/packages/32/c8/564be4d12629b912ea431f1a50eb8b3b9d00f1a0b1ceff17f266be190007/subprocess32-3.5.4.tar.gz (97kB)\n",
            "\u001b[K     |████████████████████████████████| 102kB 8.8MB/s \n",
            "\u001b[?25hCollecting GitPython>=1.0.0\n",
            "\u001b[?25l  Downloading https://files.pythonhosted.org/packages/27/da/6f6224fdfc47dab57881fe20c0d1bc3122be290198ba0bf26a953a045d92/GitPython-3.1.17-py3-none-any.whl (166kB)\n",
            "\u001b[K     |████████████████████████████████| 174kB 18.3MB/s \n",
            "\u001b[?25hRequirement already satisfied: psutil>=5.0.0 in /usr/local/lib/python3.7/dist-packages (from wandb) (5.4.8)\n",
            "Requirement already satisfied: PyYAML in /usr/local/lib/python3.7/dist-packages (from wandb) (3.13)\n",
            "Collecting configparser>=3.8.1\n",
            "  Downloading https://files.pythonhosted.org/packages/fd/01/ff260a18caaf4457eb028c96eeb405c4a230ca06c8ec9c1379f813caa52e/configparser-5.0.2-py3-none-any.whl\n",
            "Collecting docker-pycreds>=0.4.0\n",
            "  Downloading https://files.pythonhosted.org/packages/f5/e8/f6bd1eee09314e7e6dee49cbe2c5e22314ccdb38db16c9fc72d2fa80d054/docker_pycreds-0.4.0-py2.py3-none-any.whl\n",
            "Requirement already satisfied: six>=1.13.0 in /usr/local/lib/python3.7/dist-packages (from wandb) (1.15.0)\n",
            "Collecting pathtools\n",
            "  Downloading https://files.pythonhosted.org/packages/e7/7f/470d6fcdf23f9f3518f6b0b76be9df16dcc8630ad409947f8be2eb0ed13a/pathtools-0.1.2.tar.gz\n",
            "Requirement already satisfied: requests<3,>=2.0.0 in /usr/local/lib/python3.7/dist-packages (from wandb) (2.23.0)\n",
            "Requirement already satisfied: Click>=7.0 in /usr/local/lib/python3.7/dist-packages (from wandb) (8.0.0)\n",
            "Requirement already satisfied: protobuf>=3.12.0 in /usr/local/lib/python3.7/dist-packages (from wandb) (3.12.4)\n",
            "Requirement already satisfied: certifi in /usr/local/lib/python3.7/dist-packages (from sentry-sdk>=0.4.0->wandb) (2020.12.5)\n",
            "Requirement already satisfied: urllib3>=1.10.0 in /usr/local/lib/python3.7/dist-packages (from sentry-sdk>=0.4.0->wandb) (1.24.3)\n",
            "Collecting gitdb<5,>=4.0.1\n",
            "\u001b[?25l  Downloading https://files.pythonhosted.org/packages/ea/e8/f414d1a4f0bbc668ed441f74f44c116d9816833a48bf81d22b697090dba8/gitdb-4.0.7-py3-none-any.whl (63kB)\n",
            "\u001b[K     |████████████████████████████████| 71kB 7.7MB/s \n",
            "\u001b[?25hRequirement already satisfied: typing-extensions>=3.7.4.0; python_version < \"3.8\" in /usr/local/lib/python3.7/dist-packages (from GitPython>=1.0.0->wandb) (3.7.4.3)\n",
            "Requirement already satisfied: idna<3,>=2.5 in /usr/local/lib/python3.7/dist-packages (from requests<3,>=2.0.0->wandb) (2.10)\n",
            "Requirement already satisfied: chardet<4,>=3.0.2 in /usr/local/lib/python3.7/dist-packages (from requests<3,>=2.0.0->wandb) (3.0.4)\n",
            "Requirement already satisfied: setuptools in /usr/local/lib/python3.7/dist-packages (from protobuf>=3.12.0->wandb) (56.1.0)\n",
            "Collecting smmap<5,>=3.0.1\n",
            "  Downloading https://files.pythonhosted.org/packages/68/ee/d540eb5e5996eb81c26ceffac6ee49041d473bc5125f2aa995cf51ec1cf1/smmap-4.0.0-py2.py3-none-any.whl\n",
            "Building wheels for collected packages: subprocess32, pathtools\n",
            "  Building wheel for subprocess32 (setup.py) ... \u001b[?25l\u001b[?25hdone\n",
            "  Created wheel for subprocess32: filename=subprocess32-3.5.4-cp37-none-any.whl size=6489 sha256=a4afa97e2c998164a041e77370defa417c24a34a71e7223431dc9772e9c2e705\n",
            "  Stored in directory: /root/.cache/pip/wheels/68/39/1a/5e402bdfdf004af1786c8b853fd92f8c4a04f22aad179654d1\n",
            "  Building wheel for pathtools (setup.py) ... \u001b[?25l\u001b[?25hdone\n",
            "  Created wheel for pathtools: filename=pathtools-0.1.2-cp37-none-any.whl size=8786 sha256=619b1cd1229f59a560831caa135d2fa9c8a007dd6698c0490a26d1a20d5c1957\n",
            "  Stored in directory: /root/.cache/pip/wheels/0b/04/79/c3b0c3a0266a3cb4376da31e5bfe8bba0c489246968a68e843\n",
            "Successfully built subprocess32 pathtools\n",
            "Installing collected packages: sentry-sdk, shortuuid, subprocess32, smmap, gitdb, GitPython, configparser, docker-pycreds, pathtools, wandb\n",
            "Successfully installed GitPython-3.1.17 configparser-5.0.2 docker-pycreds-0.4.0 gitdb-4.0.7 pathtools-0.1.2 sentry-sdk-1.1.0 shortuuid-1.0.1 smmap-4.0.0 subprocess32-3.5.4 wandb-0.10.30\n"
          ],
          "name": "stdout"
        }
      ]
    },
    {
      "cell_type": "code",
      "metadata": {
        "colab": {
          "base_uri": "https://localhost:8080/",
          "height": 68
        },
        "id": "1Am-OwBXOf5s",
        "outputId": "86780c9d-a421-468d-bf90-5982617467c8"
      },
      "source": [
        "import wandb\n",
        "wandb.login()"
      ],
      "execution_count": 3,
      "outputs": [
        {
          "output_type": "display_data",
          "data": {
            "application/javascript": [
              "\n",
              "        window._wandbApiKey = new Promise((resolve, reject) => {\n",
              "            function loadScript(url) {\n",
              "            return new Promise(function(resolve, reject) {\n",
              "                let newScript = document.createElement(\"script\");\n",
              "                newScript.onerror = reject;\n",
              "                newScript.onload = resolve;\n",
              "                document.body.appendChild(newScript);\n",
              "                newScript.src = url;\n",
              "            });\n",
              "            }\n",
              "            loadScript(\"https://cdn.jsdelivr.net/npm/postmate/build/postmate.min.js\").then(() => {\n",
              "            const iframe = document.createElement('iframe')\n",
              "            iframe.style.cssText = \"width:0;height:0;border:none\"\n",
              "            document.body.appendChild(iframe)\n",
              "            const handshake = new Postmate({\n",
              "                container: iframe,\n",
              "                url: 'https://wandb.ai/authorize'\n",
              "            });\n",
              "            const timeout = setTimeout(() => reject(\"Couldn't auto authenticate\"), 5000)\n",
              "            handshake.then(function(child) {\n",
              "                child.on('authorize', data => {\n",
              "                    clearTimeout(timeout)\n",
              "                    resolve(data)\n",
              "                });\n",
              "            });\n",
              "            })\n",
              "        });\n",
              "    "
            ],
            "text/plain": [
              "<IPython.core.display.Javascript object>"
            ]
          },
          "metadata": {
            "tags": []
          }
        },
        {
          "output_type": "stream",
          "text": [
            "\u001b[34m\u001b[1mwandb\u001b[0m: Appending key for api.wandb.ai to your netrc file: /root/.netrc\n"
          ],
          "name": "stderr"
        },
        {
          "output_type": "execute_result",
          "data": {
            "text/plain": [
              "True"
            ]
          },
          "metadata": {
            "tags": []
          },
          "execution_count": 3
        }
      ]
    },
    {
      "cell_type": "code",
      "metadata": {
        "id": "V8yIrcNBLgBx"
      },
      "source": [
        "%matplotlib inline\n",
        "import matplotlib.pyplot as plt\n",
        "import numpy as np\n",
        "import pandas as pd\n",
        "from sklearn.model_selection import train_test_split\n",
        "from numpy import exp\n",
        "from math import log\n",
        "numpy_rng = np.random.RandomState(1234)"
      ],
      "execution_count": 4,
      "outputs": []
    },
    {
      "cell_type": "code",
      "metadata": {
        "id": "8aG-WhEfLrhM"
      },
      "source": [
        "train_df = pd.read_csv('/content/drive/MyDrive/Fashion_MNIST/fashion-mnist_train.csv')\n",
        "test_df = pd.read_csv('/content/drive/MyDrive/Fashion_MNIST/fashion-mnist_test.csv')"
      ],
      "execution_count": 5,
      "outputs": []
    },
    {
      "cell_type": "markdown",
      "metadata": {
        "id": "F_GvNwcvFxAc"
      },
      "source": [
        "# DATASET PREPROCESSING"
      ]
    },
    {
      "cell_type": "code",
      "metadata": {
        "id": "55vwJnmnL4kE"
      },
      "source": [
        "train_data_df = train_df.drop('label', axis=1) #dropping the labels column to separate the data from the labels\n",
        "train_data_np = train_data_df.to_numpy() #data matrix\n",
        "train_bin = np.where(train_data_np > 127, 1, 0) #converting the data matrix to binary\n",
        "train_data = train_bin.reshape(train_bin.shape[0], 784) #reshaping\n",
        "train_labels = train_df['label'].to_frame().to_numpy() #labels\n",
        "train_data,val_data,train_labels,val_labels = train_test_split(train_data, train_labels, test_size=0.1, random_state=42)"
      ],
      "execution_count": 6,
      "outputs": []
    },
    {
      "cell_type": "code",
      "metadata": {
        "id": "qMg_hs2_RV8j"
      },
      "source": [
        "test_data_df = test_df.drop('label', axis=1)\n",
        "test_data_np = test_data_df.to_numpy()\n",
        "test_bin = np.where(test_data_np > 127, 1, 0)\n",
        "test_data = test_bin.reshape(test_bin.shape[0], 784)\n",
        "test_labels = test_df['label'].to_frame().to_numpy()"
      ],
      "execution_count": 7,
      "outputs": []
    },
    {
      "cell_type": "markdown",
      "metadata": {
        "id": "sZIeAKvUF3Yt"
      },
      "source": [
        "# SIMPLE LOGISTIC REGRESSION MODEL"
      ]
    },
    {
      "cell_type": "code",
      "metadata": {
        "id": "kONCq2R7BVCu"
      },
      "source": [
        "from sklearn.linear_model import LogisticRegression\n",
        "from sklearn.metrics import accuracy_score,log_loss\n",
        "def train_test(x_train, y_train, x_test,y_test):\n",
        "  logisticRegr = LogisticRegression(max_iter = 1000,multi_class='multinomial') #multi-class logistic regression model for 1000 iterations\n",
        "  logisticRegr.fit(x_train, y_train)\n",
        "  y_pred = logisticRegr.predict(x_test)\n",
        "  pred = logisticRegr.predict_proba(x_test)\n",
        "  loss = log_loss(y_test,pred) #cross-entropy loss\n",
        "  accuracy = accuracy_score(y_test, y_pred) #accuracy\n",
        "  return loss, accuracy"
      ],
      "execution_count": 8,
      "outputs": []
    },
    {
      "cell_type": "markdown",
      "metadata": {
        "id": "Hnbc-cNsF7nX"
      },
      "source": [
        "# HELPER FUNCTIONS FOR RBM AND RBM MODEL"
      ]
    },
    {
      "cell_type": "code",
      "metadata": {
        "id": "TjjCQCSTU0Bg"
      },
      "source": [
        "def sigmoid(x):\n",
        "    return 1. / (1 + np.exp(-x))"
      ],
      "execution_count": 9,
      "outputs": []
    },
    {
      "cell_type": "code",
      "metadata": {
        "id": "zUkzDDVYCmnU"
      },
      "source": [
        "class RBM(object):\n",
        "     def __init__(self, input=None, n_visible=2, n_hidden=3, W=None, c=None, b=None):\n",
        "        \n",
        "        if W is None:\n",
        "            initial_W = np.random.randn(n_visible, n_hidden) * 0.01\n",
        "            W = initial_W\n",
        "\n",
        "        if c is None:\n",
        "            c = np.random.randn(n_hidden) * 0.01  # initialize h bias 0\n",
        "\n",
        "        if b is None:\n",
        "            b = np.random.randn(n_visible) * 0.01 # initialize v bias 0\n",
        "\n",
        "        self.n_visible = n_visible \n",
        "        self.n_hidden = n_hidden   \n",
        "        self.input = input\n",
        "        self.W = W\n",
        "        self.c = c\n",
        "        self.b = b\n",
        "\n",
        "def gibbs_sampling(rbm, lr=0.1, k=200, r=10):\n",
        "\n",
        "  h_sig_initial, samp_h_initial = prob_hv(rbm,np.random.randn(rbm.input.shape[0], rbm.input.shape[1]))\n",
        "\n",
        "  chain_start = samp_h_initial\n",
        "\n",
        "  for step in range(k):\n",
        "      print(\"Sampling k={}\".format(step))\n",
        "      if step == 0:\n",
        "          sig_v, samp_v = prob_vh(rbm,samp_h_initial)\n",
        "      else:\n",
        "          sig_v, samp_v = prob_vh(rbm,samp_h)\n",
        "      sig_h, samp_h = prob_hv(rbm,samp_v)\n",
        "\n",
        "  dW_2 = np.zeros((rbm.n_visible,rbm.n_hidden))\n",
        "  dvbias_2 = np.zeros(rbm.n_visible)\n",
        "  dhbias_2 = np.zeros(rbm.n_hidden)\n",
        "\n",
        "  for step in range(r):\n",
        "    print(\"Sampling r={}\".format(step))\n",
        "    nv_means, nv_samples,\\\n",
        "    nh_means, nh_samples = gibbs_hvh(rbm,nh_samples)\n",
        "    dW_2 += np.dot(samp_v.T,sig_h)\n",
        "    db_2 += np.sum(samp_v, axis=0)\n",
        "    dc_2 += np.sum(sig_h, axis=0)\n",
        "\n",
        "  rbm.W += lr * (np.dot(rbm.input.T, h_sig_initial)\n",
        "                  - dW_2)/(rbm.input.shape[0] ** 2)\n",
        "  rbm.b += lr * np.mean(rbm.input - db_2, axis=0)/(rbm.input.shape[0])\n",
        "  rbm.c += lr * np.mean(h_sig_initial - dc_2, axis=0)/rbm.input.shape[0]\n",
        "\n",
        "#-----------------SAMPLING(H/V)-------------------------\n",
        "def prob_hv(rbm, v):\n",
        "    sig_h = sigmoid(np.dot(v, rbm.W) + rbm.c)\n",
        "    samp_h = numpy_rng.binomial(size=sig_h.shape, n=1, p=sig_h)\n",
        "    return [sig_h, samp_h]\n",
        "\n",
        "#-----------------SAMPLING(V/H)-------------------------\n",
        "def prob_vh(rbm, h):\n",
        "    sig_v =  sigmoid(np.dot(h, rbm.W.T) + rbm.b)\n",
        "    samp_v = numpy_rng.binomial(size=sig_v.shape, n=1, p=sig_v) \n",
        "    return [sig_v, samp_v]\n",
        "\n",
        "#--------------- COMPUTE HIDDEN REPRESENTATION OF VALIDATION AND TEST DATA------\n",
        "def get_hidden_reps(rbm, v,t):\n",
        "    h_v = sigmoid(np.dot(v, rbm.W) + rbm.c)\n",
        "    h_t = sigmoid(np.dot(t, rbm.W) + rbm.c)\n",
        "    return h_v,h_t      \n",
        "\n",
        "#--TRAIN THE RBM AND RETURN HIDDEN REPRESENTATIONS OF VALIDATION AND TEST DATA--\n",
        "def train_rbm(rbm, v,t,learning_rate=0.05, k = 200, r=10):\n",
        "    gibbs_sampling(rbm,lr=learning_rate,k=k,r=r)\n",
        "    return get_hidden_reps(rbm,v,t)"
      ],
      "execution_count": 17,
      "outputs": []
    },
    {
      "cell_type": "markdown",
      "metadata": {
        "id": "tE2kaD7NGC7Z"
      },
      "source": [
        "# SWEEP"
      ]
    },
    {
      "cell_type": "code",
      "metadata": {
        "id": "LjW04rkeNz1p"
      },
      "source": [
        "def swp():\n",
        "#-------------DEFAULT HYPERPARAMETERS-------------------------------------------\n",
        "  hyperparameter_defaults = dict(\n",
        "    n_hidden=64,\n",
        "    k = 200,\n",
        "    r = 10\n",
        "  )\n",
        "#---------------SETTING UP THE SWEEP--------------------------------------------\n",
        "  wandb.init(project=\"Assignment-4\", config=hyperparameter_defaults)\n",
        "  config = wandb.config\n",
        "  wandb.run.name = \"{}_h_layers_{}_k_{}_r- Gibbs\".format(config.n_hidden, config.k,config.r)\n",
        "  n_visible=784\n",
        "  rbm = RBM(input=train_data, n_visible=n_visible, n_hidden=config.n_hidden)\n",
        "\n",
        "#----------------RUNNING THE MODEL----------------------------------------------\n",
        "  for epoch in range(5):\n",
        "\n",
        "    hidden_rep,hidden_rep_test= train_rbm(rbm,val_data,test_data,k = config.k,r=config.r)\n",
        "    print('Training epoch: %d' %epoch)\n",
        "    loss, accuracy = train_test(hidden_rep, val_labels, hidden_rep_test,test_labels)\n",
        "    print('Loss:{} Accuracy:{}'.format(loss,accuracy))\n",
        "    metrics = {'epoch':epoch, 'accuracy': accuracy, 'loss': loss}\n",
        "    wandb.log(metrics)\n",
        "  wandb.run.finish()"
      ],
      "execution_count": 11,
      "outputs": []
    },
    {
      "cell_type": "code",
      "metadata": {
        "colab": {
          "base_uri": "https://localhost:8080/"
        },
        "id": "szJG-RiwOZaK",
        "outputId": "c62ac62f-9d59-4b64-9670-badc787861df"
      },
      "source": [
        "sweep_config = {\n",
        "  \"name\": \"Sweep - Gibbs\",\n",
        "  \"method\": \"grid\",\n",
        "  \"project\": \"Assignment-4\",\n",
        "  \"metric\":{\n",
        "      \"name\":\"val_accuracy\",\n",
        "      \"goal\":\"maximize\"\n",
        "  },\n",
        "  \"parameters\": {\n",
        "        \"n_hidden\": {\n",
        "            \"values\":[64,128,256]\n",
        "        },\n",
        "        \"k\": {\n",
        "            \"values\":[200,300]\n",
        "        },\n",
        "        \"r\": {\n",
        "            \"values\":[10,20,30]\n",
        "        },\n",
        "    }\n",
        "}\n",
        "\n",
        "sweep_id = wandb.sweep(sweep_config)"
      ],
      "execution_count": 12,
      "outputs": [
        {
          "output_type": "stream",
          "text": [
            "Create sweep with ID: snwxi50l\n",
            "Sweep URL: https://wandb.ai/kodikarthik21/uncategorized/sweeps/snwxi50l\n"
          ],
          "name": "stdout"
        }
      ]
    },
    {
      "cell_type": "code",
      "metadata": {
        "id": "1yMrpIcOO-ro"
      },
      "source": [
        "#wandb.agent('4ehftw3l', swp)"
      ],
      "execution_count": 13,
      "outputs": []
    }
  ]
}